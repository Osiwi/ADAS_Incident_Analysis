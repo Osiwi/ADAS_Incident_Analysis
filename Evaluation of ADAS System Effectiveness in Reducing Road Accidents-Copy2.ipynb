{
 "cells": [
  {
   "cell_type": "code",
   "execution_count": null,
   "id": "ca747535-1a9f-4c5f-883d-8b4477d4d2cb",
   "metadata": {},
   "outputs": [
    {
     "name": "stdout",
     "output_type": "stream",
     "text": [
      "Empty DataFrame\n",
      "Columns: [ADAS (Advanced Driver Assistance Systems) Road Accident Data Insights: Uncovering Trends and Risk Factors A case study of the United States of America]\n",
      "Index: []\n",
      "    Report ID  Report Version               Reporting Entity Report Type  \\\n",
      "0  30270-6855               1                      Waymo LLC     Monthly   \n",
      "1  30531-6864               1  Transdev Alternative Services     Monthly   \n",
      "2  30531-6863               1  Transdev Alternative Services     Monthly   \n",
      "3  30531-6862               1  Transdev Alternative Services     Monthly   \n",
      "4  30270-6857               1                      Waymo LLC     Monthly   \n",
      "\n",
      "   Report Month  Report Year Report Submission Date          VIN  \\\n",
      "0          11.0       2023.0               DEC-2023  SADHW2S1XM1   \n",
      "1          11.0       2023.0               DEC-2023  SADHW2S1XM1   \n",
      "2          11.0       2023.0               DEC-2023  SADHW2S19M1   \n",
      "3          11.0       2023.0               DEC-2023  SADHW2S11M1   \n",
      "4          11.0       2023.0               DEC-2023  SADHW2S1XM1   \n",
      "\n",
      "  VIN - Unknown Serial Number  ... Investigating Officer Name  \\\n",
      "0                         NaN  ...                        NaN   \n",
      "1                         NaN  ...                        NaN   \n",
      "2                         NaN  ...                        NaN   \n",
      "3                         NaN  ...                        NaN   \n",
      "4                         NaN  ...                        NaN   \n",
      "\n",
      "  Inv. Officer Name - Unknown Investigating Officer Phone  \\\n",
      "0                           Y                         NaN   \n",
      "1                                                     NaN   \n",
      "2                                                     NaN   \n",
      "3                                                     NaN   \n",
      "4                                                     NaN   \n",
      "\n",
      "   Inv. Officer Phone - Unknown Investigating Officer Email  \\\n",
      "0                             Y                         NaN   \n",
      "1                                                       NaN   \n",
      "2                                                       NaN   \n",
      "3                                                       NaN   \n",
      "4                                                       NaN   \n",
      "\n",
      "  Inv. Officer Email - Unknown  Within ODD? Within ODD? - CBI  \\\n",
      "0                            Y          Yes                     \n",
      "1                                       Yes                     \n",
      "2                                       Yes                     \n",
      "3                                       Yes                     \n",
      "4                                       Yes                     \n",
      "\n",
      "                                           Narrative Narrative - CBI?  \n",
      "0  On November [XXX], 2023 at 3:46 PM PT a Waymo ...              NaN  \n",
      "1  On November [XXX], 2023 at 7:59 PM PT a Waymo ...              NaN  \n",
      "2  On November [XXX], 2023 at 4:06 AM PT a Waymo ...              NaN  \n",
      "3  On November [XXX], 2023 at 3:44 PM PT a Waymo ...              NaN  \n",
      "4  On November [XXX], 2023 at 7:59 PM PT a Waymo ...              NaN  \n",
      "\n",
      "[5 rows x 137 columns]\n",
      "    Report ID  Report Version                  Reporting Entity  \\\n",
      "0  33500-6868               1                       Latitude AI   \n",
      "1    753-6867               1                 Kia America, Inc.   \n",
      "2  30350-6861               1                      AImotive Inc   \n",
      "3     62-6835               1  Honda (American Honda Motor Co.)   \n",
      "4    842-6860               1   Mazda North American Operations   \n",
      "\n",
      "                          Report Type  Report Month  Report Year  \\\n",
      "0  No New or Updated Incident Reports          11.0       2023.0   \n",
      "1  No New or Updated Incident Reports          12.0       2023.0   \n",
      "2  No New or Updated Incident Reports          12.0       2023.0   \n",
      "3  No New or Updated Incident Reports          12.0       2023.0   \n",
      "4  No New or Updated Incident Reports          12.0       2023.0   \n",
      "\n",
      "  Report Submission Date  VIN VIN - Unknown Serial Number  ...  \\\n",
      "0               DEC-2023  NaN                         NaN  ...   \n",
      "1               DEC-2023  NaN                         NaN  ...   \n",
      "2               DEC-2023  NaN                         NaN  ...   \n",
      "3               DEC-2023  NaN                         NaN  ...   \n",
      "4               DEC-2023  NaN                         NaN  ...   \n",
      "\n",
      "  Investigating Officer Name Inv. Officer Name - Unknown  \\\n",
      "0                        NaN                               \n",
      "1                        NaN                               \n",
      "2                        NaN                               \n",
      "3                        NaN                               \n",
      "4                        NaN                               \n",
      "\n",
      "  Investigating Officer Phone  Inv. Officer Phone - Unknown  \\\n",
      "0                         NaN                                 \n",
      "1                         NaN                                 \n",
      "2                         NaN                                 \n",
      "3                         NaN                                 \n",
      "4                         NaN                                 \n",
      "\n",
      "  Investigating Officer Email Inv. Officer Email - Unknown  Within ODD?  \\\n",
      "0                         NaN                                       NaN   \n",
      "1                         NaN                                       NaN   \n",
      "2                         NaN                                       NaN   \n",
      "3                         NaN                                       NaN   \n",
      "4                         NaN                                       NaN   \n",
      "\n",
      "  Within ODD? - CBI Narrative Narrative - CBI?  \n",
      "0                         NaN              NaN  \n",
      "1                         NaN              NaN  \n",
      "2                         NaN              NaN  \n",
      "3                         NaN              NaN  \n",
      "4                         NaN              NaN  \n",
      "\n",
      "[5 rows x 137 columns]\n"
     ]
    }
   ],
   "source": [
    "import pandas as pd\n",
    "\n",
    "# DATA SOURCE / CONFIDENTIALITY NOTE\n",
    "# The original CSV files contain sensitive road incident records related to\n",
    "# Advanced Driver Assistance Systems (ADAS) and Automated Driving Systems (ADS).\n",
    "# For privacy and compliance reasons, these raw datasets are NOT included in this\n",
    "# public repository, and the original local machine paths have been removed.\n",
    "#\n",
    "# To reproduce this analysis:\n",
    "# 1. Prepare your own incident report datasets with a similar schema, e.g.:\n",
    "#    - SGO-2021-01_Incident_Reports_ADAS.csv   (driver-assist system incidents)\n",
    "#    - SGO-2021-01_Incident_Reports_ADS.csv    (automated / self-driving incidents)\n",
    "#    - SGO-2021-01_Incident_Reports_OTHER.csv  (other vehicle tech / baseline incidents)\n",
    "# 2. Store them locally (not committed to GitHub) under a folder called `data/`\n",
    "# 3. Update or reuse the relative paths below.\n",
    "\n",
    "# Relative paths to your private/local copies (these files are intentionally git-ignored)\n",
    "adas_file_path = 'data/SGO-2021-01_Incident_Reports_ADAS.csv'\n",
    "ads_file_path = 'data/SGO-2021-01_Incident_Reports_ADS.csv'\n",
    "other_file_path = 'data/SGO-2021-01_Incident_Reports_OTHER.csv'\n",
    "\n",
    "\n",
    "adas_data = pd.read_csv(adas_file_path, encoding='latin1')\n",
    "ads_data = pd.read_csv(ads_file_path, encoding='latin1')\n",
    "other_data = pd.read_csv(other_file_path, encoding='latin1')\n",
    "\n",
    "# Display the first few rows of each dataframe to understand their structure\n",
    "print(adas_data.head())\n",
    "print(ads_data.head())\n",
    "print(other_data.head())\n"
   ]
  },
  {
   "cell_type": "code",
   "execution_count": 6,
   "id": "b1c72cc8-3df8-4f7c-94d6-276ea255cdcd",
   "metadata": {},
   "outputs": [],
   "source": [
    "# Data cleaning: dropping duplicates, handling missing values, etc.\n",
    "adas_data.drop_duplicates(inplace=True)\n",
    "ads_data.drop_duplicates(inplace=True)\n",
    "other_data.drop_duplicates(inplace=True)"
   ]
  },
  {
   "cell_type": "code",
   "execution_count": 8,
   "id": "623dbe4f-d67a-4c5e-a1d5-6e4617211b82",
   "metadata": {},
   "outputs": [],
   "source": [
    "# Merge dataframes if necessary, for a combined analysis\n",
    "combined_data = pd.concat([adas_data, ads_data, other_data], ignore_index=True)"
   ]
  },
  {
   "cell_type": "code",
   "execution_count": 10,
   "id": "b0861b12-3833-4a53-80fc-6bdc0615d437",
   "metadata": {},
   "outputs": [],
   "source": [
    "# Identify and remove irrelevant columns\n",
    "irrelevant_columns = ['VIN', 'City', 'Latitude', 'Longitude', 'Investigating Officer Name',\n",
    "                      'Investigating Officer Phone', 'Investigating Officer Email', \n",
    "                      'ADAS (Advanced Driver Assistance Systems) Road Accident Data Insights: Uncovering Trends and Risk Factors A case study of the United States of America',\n",
    "                      'Narrative', 'Narrative - CBI?']"
   ]
  },
  {
   "cell_type": "code",
   "execution_count": 12,
   "id": "f97098ff-746c-4347-862e-395657bb49b4",
   "metadata": {},
   "outputs": [],
   "source": [
    "# Remove only columns that exist in the dataframe\n",
    "columns_to_drop = [col for col in irrelevant_columns if col in combined_data.columns]\n",
    "combined_data.drop(columns=columns_to_drop, inplace=True)"
   ]
  },
  {
   "cell_type": "code",
   "execution_count": 14,
   "id": "b96a9b9d-bdda-4538-93e3-3a77e46ba9e6",
   "metadata": {},
   "outputs": [],
   "source": [
    "# Handle missing values for numeric and non-numeric columns separately\n",
    "numeric_columns = combined_data.select_dtypes(include=['number']).columns\n",
    "non_numeric_columns = combined_data.select_dtypes(exclude=['number']).columns"
   ]
  },
  {
   "cell_type": "code",
   "execution_count": 16,
   "id": "234be662-898c-4988-837c-c8d5e99166eb",
   "metadata": {},
   "outputs": [],
   "source": [
    "combined_data[numeric_columns] = combined_data[numeric_columns].fillna(combined_data[numeric_columns].median())"
   ]
  },
  {
   "cell_type": "code",
   "execution_count": 18,
   "id": "6df9e0d6-66c8-45b9-a73d-120d91ac7da1",
   "metadata": {},
   "outputs": [
    {
     "name": "stderr",
     "output_type": "stream",
     "text": [
      "C:\\Users\\Joseph Okpono\\AppData\\Local\\Temp\\ipykernel_24364\\3508331431.py:2: FutureWarning: Downcasting object dtype arrays on .fillna, .ffill, .bfill is deprecated and will change in a future version. Call result.infer_objects(copy=False) instead. To opt-in to the future behavior, set `pd.set_option('future.no_silent_downcasting', True)`\n",
      "  combined_data[non_numeric_columns] = combined_data[non_numeric_columns].fillna(combined_data[non_numeric_columns].mode().iloc[0])\n"
     ]
    }
   ],
   "source": [
    "# Fill missing values in non-numeric columns\n",
    "combined_data[non_numeric_columns] = combined_data[non_numeric_columns].fillna(combined_data[non_numeric_columns].mode().iloc[0])"
   ]
  },
  {
   "cell_type": "code",
   "execution_count": 20,
   "id": "8f11e7e4-8c25-4e25-b33a-85cc45cc1c2b",
   "metadata": {},
   "outputs": [],
   "source": [
    "# Explicitly convert non-numeric columns to their inferred types to avoid the warning\n",
    "combined_data[non_numeric_columns] = combined_data[non_numeric_columns].infer_objects(copy=False)\n"
   ]
  },
  {
   "cell_type": "code",
   "execution_count": 22,
   "id": "a78eaab7-d147-4e25-946e-3e579bd0b737",
   "metadata": {},
   "outputs": [],
   "source": [
    "# Convert date columns to datetime, specifying the format if known\n",
    "def parse_dates(df, date_column, date_formats):\n",
    "    for fmt in date_formats:\n",
    "        try:\n",
    "            df[date_column] = pd.to_datetime(df[date_column], format=fmt, errors='raise')\n",
    "            return df\n",
    "        except (ValueError, TypeError):\n",
    "            pass\n",
    "    df[date_column] = pd.to_datetime(df[date_column], errors='coerce')\n",
    "    return df"
   ]
  },
  {
   "cell_type": "code",
   "execution_count": 24,
   "id": "1b90d352-3c63-479a-800b-3f16eba452db",
   "metadata": {},
   "outputs": [
    {
     "name": "stderr",
     "output_type": "stream",
     "text": [
      "C:\\Users\\Joseph Okpono\\AppData\\Local\\Temp\\ipykernel_24364\\2681092772.py:9: UserWarning: Could not infer format, so each element will be parsed individually, falling back to `dateutil`. To ensure parsing is consistent and as-expected, please specify a format.\n",
      "  df[date_column] = pd.to_datetime(df[date_column], errors='coerce')\n"
     ]
    }
   ],
   "source": [
    "date_formats = ['%Y-%m-%d', '%m/%d/%Y', '%d-%m-%Y']  # add other common formats as needed\n",
    "combined_data = parse_dates(combined_data, 'Report Submission Date', date_formats)\n"
   ]
  },
  {
   "cell_type": "code",
   "execution_count": 26,
   "id": "d9b58349-928f-4721-ba24-0954fb8439ce",
   "metadata": {},
   "outputs": [
    {
     "name": "stdout",
     "output_type": "stream",
     "text": [
      "<class 'pandas.core.frame.DataFrame'>\n",
      "RangeIndex: 3413 entries, 0 to 3412\n",
      "Columns: 129 entries, ADAS (Advanced Driver Assistance Systems) Road Accident Data Insights: Uncovering Trends and Risk Factors A case study of the United States of America to Within ODD? - CBI\n",
      "dtypes: datetime64[ns](1), float64(8), object(120)\n",
      "memory usage: 3.4+ MB\n",
      "None\n"
     ]
    }
   ],
   "source": [
    "# Display the cleaned data structure\n",
    "print(combined_data.info())"
   ]
  },
  {
   "cell_type": "code",
   "execution_count": 28,
   "id": "a9b55a08-68b2-44ed-aec8-6861f2014ab4",
   "metadata": {},
   "outputs": [],
   "source": [
    "# Create new features using pd.concat to avoid fragmentation\n",
    "new_features = pd.DataFrame({\n",
    "    'Incident_Month': combined_data['Report Submission Date'].dt.month,\n",
    "    'Incident_Year': combined_data['Report Submission Date'].dt.year\n",
    "})"
   ]
  },
  {
   "cell_type": "code",
   "execution_count": 30,
   "id": "bad7a99e-40e3-418d-a9a5-d2baf0d8274d",
   "metadata": {},
   "outputs": [],
   "source": [
    "combined_data = pd.concat([combined_data, new_features], axis=1)"
   ]
  },
  {
   "cell_type": "code",
   "execution_count": 32,
   "id": "618b5896-bc43-484e-a5dd-89417457024e",
   "metadata": {},
   "outputs": [],
   "source": [
    "# Encode categorical variables\n",
    "combined_data = pd.get_dummies(combined_data, columns=['Reporting Entity', 'State'], drop_first=True)\n"
   ]
  },
  {
   "cell_type": "code",
   "execution_count": 34,
   "id": "9224515e-9a97-43ad-a72f-57d87e91b584",
   "metadata": {},
   "outputs": [
    {
     "name": "stdout",
     "output_type": "stream",
     "text": [
      "ADAS (Advanced Driver Assistance Systems) Road Accident Data Insights: Uncovering Trends and Risk Factors A case study of the United States of America    float64\n",
      "Report ID                                                                                                                                                  object\n",
      "Report Version                                                                                                                                            float64\n",
      "Report Type                                                                                                                                                object\n",
      "Report Month                                                                                                                                              float64\n",
      "                                                                                                                                                           ...   \n",
      "State_TX                                                                                                                                                     bool\n",
      "State_UNK                                                                                                                                                    bool\n",
      "State_VA                                                                                                                                                     bool\n",
      "State_WA                                                                                                                                                     bool\n",
      "State_WY                                                                                                                                                     bool\n",
      "Length: 260, dtype: object\n"
     ]
    }
   ],
   "source": [
    "# Ensure all remaining columns are numeric\n",
    "print(combined_data.dtypes)"
   ]
  },
  {
   "cell_type": "code",
   "execution_count": 36,
   "id": "538a0dd7-32f5-45c0-a7fa-358f63e87ed2",
   "metadata": {},
   "outputs": [
    {
     "name": "stdout",
     "output_type": "stream",
     "text": [
      "Non-numeric columns:\n",
      "Index(['Report ID', 'Report Type', 'Report Submission Date', 'VIN - Unknown',\n",
      "       'Serial Number', 'Make', 'Model', 'Model - Unknown',\n",
      "       'Model Year - Unknown', 'Same Vehicle ID',\n",
      "       ...\n",
      "       'State_NM ', 'State_NV ', 'State_OH ', 'State_PA ', 'State_RI ',\n",
      "       'State_TX ', 'State_UNK', 'State_VA ', 'State_WA ', 'State_WY '],\n",
      "      dtype='object', length=250)\n"
     ]
    }
   ],
   "source": [
    "# Verify there are no non-numeric columns\n",
    "print(\"Non-numeric columns:\")\n",
    "print(combined_data.select_dtypes(exclude=['number']).columns)"
   ]
  },
  {
   "cell_type": "code",
   "execution_count": 38,
   "id": "d68005f9-9be6-4445-a7c2-b06e32df7e0f",
   "metadata": {},
   "outputs": [],
   "source": [
    "from sklearn.model_selection import train_test_split, cross_val_score, GridSearchCV\n",
    "from sklearn.ensemble import RandomForestClassifier\n",
    "from sklearn.metrics import classification_report, confusion_matrix, accuracy_score, precision_score, recall_score, f1_score\n",
    "import seaborn as sns\n",
    "import matplotlib.pyplot as plt"
   ]
  },
  {
   "cell_type": "code",
   "execution_count": 39,
   "id": "92b322ed-9f63-48f5-b2e7-c29e0ec2f1e6",
   "metadata": {},
   "outputs": [],
   "source": [
    "# Define features and target variable\n",
    "features = combined_data.drop(columns=['Highest Injury Severity Alleged'])\n",
    "target = combined_data['Highest Injury Severity Alleged']"
   ]
  },
  {
   "cell_type": "code",
   "execution_count": 40,
   "id": "87df9ef6-e0c7-48c5-8994-237be9c3379e",
   "metadata": {},
   "outputs": [
    {
     "name": "stdout",
     "output_type": "stream",
     "text": [
      "Non-numeric columns found: Index(['Report ID', 'Report Type', 'Report Submission Date', 'VIN - Unknown',\n",
      "       'Serial Number', 'Make', 'Model', 'Model - Unknown',\n",
      "       'Model Year - Unknown', 'Same Vehicle ID',\n",
      "       ...\n",
      "       'State_NM ', 'State_NV ', 'State_OH ', 'State_PA ', 'State_RI ',\n",
      "       'State_TX ', 'State_UNK', 'State_VA ', 'State_WA ', 'State_WY '],\n",
      "      dtype='object', length=249)\n"
     ]
    }
   ],
   "source": [
    "# Check if there are any remaining non-numeric columns in features\n",
    "non_numeric_features = features.select_dtypes(exclude=['number']).columns\n",
    "if len(non_numeric_features) > 0:\n",
    "    print(f\"Non-numeric columns found: {non_numeric_features}\")\n",
    "    features = features.drop(columns=non_numeric_features)"
   ]
  },
  {
   "cell_type": "code",
   "execution_count": 44,
   "id": "295ce828-af48-45d1-86b9-b1f5bd12fe0d",
   "metadata": {},
   "outputs": [
    {
     "name": "stdout",
     "output_type": "stream",
     "text": [
      "Non-numeric columns after dropping:\n",
      "Index([], dtype='object')\n"
     ]
    }
   ],
   "source": [
    "# Verify there are no non-numeric columns in features after dropping\n",
    "print(\"Non-numeric columns after dropping:\")\n",
    "print(features.select_dtypes(exclude=['number']).columns)"
   ]
  },
  {
   "cell_type": "code",
   "execution_count": 46,
   "id": "b88572a5-a296-4cd3-9924-e5491388a114",
   "metadata": {},
   "outputs": [],
   "source": [
    "# Split data into training and testing sets\n",
    "X_train, X_test, y_train, y_test = train_test_split(features, target, test_size=0.2, random_state=42)\n"
   ]
  },
  {
   "cell_type": "code",
   "execution_count": 48,
   "id": "43ce205f-c9b2-43ba-acd3-271800555a51",
   "metadata": {},
   "outputs": [],
   "source": [
    "# Train a Random Forest Classifier with hyperparameter tuning\n",
    "param_grid = {\n",
    "    'n_estimators': [50, 100, 200],\n",
    "    'max_features': ['sqrt', 'log2'],\n",
    "    'max_depth': [None, 10, 20, 30],\n",
    "    'min_samples_split': [2, 5, 10],\n",
    "    'min_samples_leaf': [1, 2, 4]\n",
    "}"
   ]
  },
  {
   "cell_type": "code",
   "execution_count": 50,
   "id": "b413ceb0-0d6e-4a11-a2d6-081789607c77",
   "metadata": {},
   "outputs": [],
   "source": [
    "import pandas as pd\n",
    "from sklearn.model_selection import train_test_split, GridSearchCV, StratifiedKFold, StratifiedShuffleSplit\n",
    "from sklearn.ensemble import RandomForestClassifier\n",
    "from sklearn.metrics import classification_report, confusion_matrix, accuracy_score, precision_score, recall_score, f1_score\n",
    "import seaborn as sns\n",
    "import matplotlib.pyplot as plt\n",
    "import statsmodels.api as sm\n"
   ]
  },
  {
   "cell_type": "code",
   "execution_count": 52,
   "id": "746de630-34ae-48ec-aa66-8164f05b49b7",
   "metadata": {},
   "outputs": [
    {
     "name": "stdout",
     "output_type": "stream",
     "text": [
      "Fitting 4 folds for each of 216 candidates, totalling 864 fits\n"
     ]
    }
   ],
   "source": [
    "rf_model = RandomForestClassifier(random_state=42)\n",
    "cv = StratifiedKFold(n_splits=4)  # Adjust number of splits to a value <= least populated class\n",
    "\n",
    "grid_search = GridSearchCV(estimator=rf_model, param_grid=param_grid, cv=cv, n_jobs=-1, verbose=2)\n",
    "grid_search.fit(X_train, y_train)\n",
    "\n",
    "best_rf_model = grid_search.best_estimator_"
   ]
  },
  {
   "cell_type": "code",
   "execution_count": 53,
   "id": "b8ed5a80-f64e-4985-b442-e5a013744b9e",
   "metadata": {},
   "outputs": [],
   "source": [
    "# Make predictions\n",
    "y_pred = best_rf_model.predict(X_test)"
   ]
  },
  {
   "cell_type": "code",
   "execution_count": 54,
   "id": "29947064-bee7-461f-84a0-5463968efa29",
   "metadata": {},
   "outputs": [
    {
     "name": "stdout",
     "output_type": "stream",
     "text": [
      "Confusion Matrix:\n",
      "[[  9   0  18   0   0]\n",
      " [  0   2   0   0   0]\n",
      " [  0   0 631   2   2]\n",
      " [  0   0   0   0   0]\n",
      " [  0   0   6   0  13]]\n",
      "\n",
      "Classification Report:\n",
      "                      precision    recall  f1-score   support\n",
      "\n",
      "               Minor       1.00      0.33      0.50        27\n",
      "            Moderate       1.00      1.00      1.00         2\n",
      "No Injuries Reported       0.96      0.99      0.98       635\n",
      "             Serious       0.00      0.00      0.00         0\n",
      "             Unknown       0.87      0.68      0.76        19\n",
      "\n",
      "            accuracy                           0.96       683\n",
      "           macro avg       0.77      0.60      0.65       683\n",
      "        weighted avg       0.96      0.96      0.95       683\n",
      "\n"
     ]
    }
   ],
   "source": [
    "# Evaluate the model\n",
    "print(\"Confusion Matrix:\")\n",
    "print(confusion_matrix(y_test, y_pred))\n",
    "print(\"\\nClassification Report:\")\n",
    "print(classification_report(y_test, y_pred, zero_division=0))"
   ]
  },
  {
   "cell_type": "code",
   "execution_count": 55,
   "id": "3957a35f-6541-4e38-a1b1-6815bece4a3f",
   "metadata": {},
   "outputs": [],
   "source": [
    "# Additional metrics with zero_division parameter\n",
    "accuracy = accuracy_score(y_test, y_pred)\n",
    "precision = precision_score(y_test, y_pred, average='weighted', zero_division=1)\n",
    "recall = recall_score(y_test, y_pred, average='weighted', zero_division=1)\n",
    "f1 = f1_score(y_test, y_pred, average='weighted', zero_division=1)"
   ]
  },
  {
   "cell_type": "code",
   "execution_count": 56,
   "id": "fd4be80f-90b9-45be-aee6-009531028bde",
   "metadata": {},
   "outputs": [
    {
     "name": "stdout",
     "output_type": "stream",
     "text": [
      "\n",
      "Accuracy: 0.95900439238653\n",
      "Precision: 0.962224730738137\n",
      "Recall: 0.95900439238653\n",
      "F1 Score: 0.953508735034073\n"
     ]
    }
   ],
   "source": [
    "print(f\"\\nAccuracy: {accuracy}\")\n",
    "print(f\"Precision: {precision}\")\n",
    "print(f\"Recall: {recall}\")\n",
    "print(f\"F1 Score: {f1}\")"
   ]
  },
  {
   "cell_type": "code",
   "execution_count": 57,
   "id": "5cae387f-b955-4ae0-a1a9-6aa446ea0554",
   "metadata": {},
   "outputs": [
    {
     "name": "stdout",
     "output_type": "stream",
     "text": [
      "\n",
      "Cross-validation scores: [0.28571429 0.94021102 0.94724502 0.94607268]\n",
      "Mean cross-validation score: 0.7798107519678446\n"
     ]
    }
   ],
   "source": [
    "# Cross-validation scores\n",
    "cv_scores = cross_val_score(best_rf_model, features, target, cv=cv)\n",
    "print(f\"\\nCross-validation scores: {cv_scores}\")\n",
    "print(f\"Mean cross-validation score: {cv_scores.mean()}\")"
   ]
  },
  {
   "cell_type": "code",
   "execution_count": 58,
   "id": "acea6ec6-ac14-4a84-8c90-f4f50803e88e",
   "metadata": {},
   "outputs": [
    {
     "data": {
      "image/png": "[encoded data removed]",
      "text/plain": [
       "<Figure size 1000x600 with 2 Axes>"
      ]
     },
     "metadata": {},
     "output_type": "display_data"
    }
   ],
   "source": [
    "# Visualizations\n",
    "# Confusion matrix heatmap\n",
    "plt.figure(figsize=(10, 6))\n",
    "sns.heatmap(confusion_matrix(y_test, y_pred), annot=True, fmt='d', cmap='Blues')\n",
    "plt.title('Confusion Matrix Heatmap')\n",
    "plt.xlabel('Predicted')\n",
    "plt.ylabel('Actual')\n",
    "plt.show()"
   ]
  },
  {
   "cell_type": "code",
   "execution_count": 78,
   "id": "c9d13537-fb1e-4d47-8ce9-e7775b9fe3c9",
   "metadata": {},
   "outputs": [
    {
     "name": "stdout",
     "output_type": "stream",
     "text": [
      "Length of feature_names: 10\n",
      "Length of importances: 10\n"
     ]
    },
    {
     "data": {
      "image/png": "[encoded data removed]",
      "text/plain": [
       "<Figure size 1200x600 with 1 Axes>"
      ]
     },
     "metadata": {},
     "output_type": "display_data"
    }
   ],
   "source": [
    "# Remove the specific feature if it exists in the feature names\n",
    "feature_to_remove = 'ADAS (Advanced Driver Assistance Systems) Road Accident Data Insights: Uncovering Trends and Risk Factors A case study of the United States of America'\n",
    "if feature_to_remove in feature_names:\n",
    "    feature_names = feature_names.drop(feature_names.index(feature_to_remove))\n",
    "\n",
    "# Debugging the mismatch\n",
    "print(f\"Length of feature_names: {len(feature_names)}\")\n",
    "print(f\"Length of importances: {len(importances)}\")\n",
    "\n",
    "# If there's a mismatch, identify where it comes from\n",
    "if len(importances) > len(feature_names):\n",
    "    print(\"Error: There are more importances than feature names. Check the model or preprocessing steps.\")\n",
    "elif len(importances) < len(feature_names):\n",
    "    missing_features = set(feature_names) - set(importances)\n",
    "    print(\"These features are in 'feature_names' but not in 'importances':\", missing_features)\n",
    "    \n",
    "    # If needed, truncate feature_names to match the length of importances\n",
    "    feature_names = feature_names[:len(importances)]\n",
    "\n",
    "    # Proceed with creating the DataFrame\n",
    "    feature_importances = pd.DataFrame({\n",
    "        'Feature': feature_names,\n",
    "        'Importance': importances\n",
    "    }).sort_values(by='Importance', ascending=False)\n",
    "    \n",
    "    # Plot the top 9 feature importances\n",
    "    plt.figure(figsize=(12, 6))\n",
    "    sns.barplot(data=feature_importances.head(9), x='Importance', y='Feature')\n",
    "    plt.title('Top 9 Feature Importances')\n",
    "    plt.xlabel('Importance')\n",
    "    plt.ylabel('Feature')\n",
    "    plt.show()\n",
    "else:\n",
    "    # If lengths match, directly create the DataFrame and plot\n",
    "    feature_importances = pd.DataFrame({\n",
    "        'Feature': feature_names,\n",
    "        'Importance': importances\n",
    "    }).sort_values(by='Importance', ascending=False)\n",
    "    \n",
    "    # Plot the top 9 feature importances\n",
    "    plt.figure(figsize=(12, 6))\n",
    "    sns.barplot(data=feature_importances.head(9), x='Importance', y='Feature')\n",
    "    plt.title('Top 9 Feature Importances')\n",
    "    plt.xlabel('Importance')\n",
    "    plt.ylabel('Feature')\n",
    "    plt.show()\n"
   ]
  },
  {
   "cell_type": "code",
   "execution_count": 82,
   "id": "27d7edd3-3488-4443-846d-534e0e7912e2",
   "metadata": {},
   "outputs": [],
   "source": [
    "# Replace with actual ADAS-related features from your dataset\n",
    "adas_features = ['Feature1', 'Feature2', 'Feature3']  # example features"
   ]
  },
  {
   "cell_type": "code",
   "execution_count": 84,
   "id": "cfabaf46-0a75-4537-b4a9-94bd7531f2cf",
   "metadata": {},
   "outputs": [],
   "source": [
    "# Ensure these features exist in the dataset\n",
    "adas_features = [feature for feature in adas_features if feature in combined_data.columns]\n"
   ]
  },
  {
   "cell_type": "code",
   "execution_count": 86,
   "id": "116d0f49-461b-47c5-8382-212fb7602365",
   "metadata": {},
   "outputs": [],
   "source": [
    "# Fit a logistic regression model to evaluate the impact of ADAS on incident severity\n",
    "X = combined_data[adas_features]\n",
    "y = combined_data['Highest Injury Severity Alleged'].apply(lambda x: 1 if x in ['Serious', 'Fatality'] else 0)\n"
   ]
  },
  {
   "cell_type": "code",
   "execution_count": 88,
   "id": "211532be-438e-430e-a6fd-d4bb69a935a1",
   "metadata": {},
   "outputs": [
    {
     "name": "stdout",
     "output_type": "stream",
     "text": [
      "Optimization terminated successfully.\n",
      "         Current function value: 0.041867\n",
      "         Iterations 9\n"
     ]
    }
   ],
   "source": [
    "logit_model = sm.Logit(y, sm.add_constant(X))\n",
    "result = logit_model.fit()"
   ]
  },
  {
   "cell_type": "code",
   "execution_count": 90,
   "id": "1d381b11-e336-4eac-9729-f3a407a703e2",
   "metadata": {},
   "outputs": [
    {
     "name": "stdout",
     "output_type": "stream",
     "text": [
      "                                  Logit Regression Results                                 \n",
      "===========================================================================================\n",
      "Dep. Variable:     Highest Injury Severity Alleged   No. Observations:                 3413\n",
      "Model:                                       Logit   Df Residuals:                     3412\n",
      "Method:                                        MLE   Df Model:                            0\n",
      "Date:                             Fri, 30 Aug 2024   Pseudo R-squ.:               1.556e-11\n",
      "Time:                                     15:16:14   Log-Likelihood:                -142.89\n",
      "converged:                                    True   LL-Null:                       -142.89\n",
      "Covariance Type:                         nonrobust   LLR p-value:                       nan\n",
      "==============================================================================\n",
      "                 coef    std err          z      P>|z|      [0.025      0.975]\n",
      "------------------------------------------------------------------------------\n",
      "const         -4.9502      0.205    -24.166      0.000      -5.352      -4.549\n",
      "==============================================================================\n"
     ]
    }
   ],
   "source": [
    "print(result.summary())"
   ]
  },
  {
   "cell_type": "code",
   "execution_count": 13,
   "id": "0018deb1-a1a9-48ad-a251-814b2fbe43a4",
   "metadata": {},
   "outputs": [
    {
     "name": "stderr",
     "output_type": "stream",
     "text": [
      "C:\\Users\\Joseph Okpono\\AppData\\Local\\Temp\\ipykernel_31424\\3690622777.py:50: UserWarning: Could not infer format, so each element will be parsed individually, falling back to `dateutil`. To ensure parsing is consistent and as-expected, please specify a format.\n",
      "  df[date_column] = pd.to_datetime(df[date_column], errors='coerce')\n"
     ]
    },
    {
     "name": "stdout",
     "output_type": "stream",
     "text": [
      "ADAS (Advanced Driver Assistance Systems) Road Accident Data Insights: Uncovering Trends and Risk Factors A case study of the United States of America    float64\n",
      "Report ID                                                                                                                                                  object\n",
      "Report Version                                                                                                                                            float64\n",
      "Reporting Entity                                                                                                                                           object\n",
      "Report Type                                                                                                                                                object\n",
      "                                                                                                                                                           ...   \n",
      "Inv. Officer Name - Unknown                                                                                                                                object\n",
      "Inv. Officer Phone - Unknown                                                                                                                               object\n",
      "Inv. Officer Email - Unknown                                                                                                                               object\n",
      "Within ODD?                                                                                                                                                object\n",
      "Within ODD? - CBI                                                                                                                                          object\n",
      "Length: 129, dtype: object\n",
      "Non-numeric columns found: Index(['Report ID', 'Reporting Entity', 'Report Type',\n",
      "       'Report Submission Date', 'VIN - Unknown', 'Serial Number', 'Make',\n",
      "       'Model', 'Model - Unknown', 'Model Year - Unknown',\n",
      "       ...\n",
      "       'Data Availability - Unknown', 'Law Enforcement Investigating?',\n",
      "       'Investigating Agency', 'Investigating Agency - Unknown',\n",
      "       'Rep Ent Or Mfr Investigating?', 'Inv. Officer Name - Unknown',\n",
      "       'Inv. Officer Phone - Unknown', 'Inv. Officer Email - Unknown',\n",
      "       'Within ODD?', 'Within ODD? - CBI'],\n",
      "      dtype='object', length=120)\n",
      "Non-numeric columns after dropping:\n",
      "Index([], dtype='object')\n",
      "Fitting 4 folds for each of 216 candidates, totalling 864 fits\n",
      "Confusion Matrix:\n",
      "[[  9   0  15   3]\n",
      " [  0   2   0   0]\n",
      " [  5   0 627   3]\n",
      " [  0   0   9  10]]\n",
      "\n",
      "Classification Report:\n",
      "                      precision    recall  f1-score   support\n",
      "\n",
      "               Minor       0.64      0.33      0.44        27\n",
      "            Moderate       1.00      1.00      1.00         2\n",
      "No Injuries Reported       0.96      0.99      0.98       635\n",
      "             Unknown       0.62      0.53      0.57        19\n",
      "\n",
      "            accuracy                           0.95       683\n",
      "           macro avg       0.81      0.71      0.75       683\n",
      "        weighted avg       0.94      0.95      0.94       683\n",
      "\n",
      "\n",
      "Accuracy: 0.9487554904831625\n",
      "Precision: 0.9411742380794949\n",
      "Recall: 0.9487554904831625\n",
      "F1 Score: 0.9427670106409315\n",
      "\n",
      "Cross-validation scores: [0.33723653 0.93552169 0.94958968 0.94490035]\n",
      "Mean cross-validation score: 0.7918120643218177\n"
     ]
    },
    {
     "data": {
      "image/png": "[encoded data removed]",
      "text/plain": [
       "<Figure size 1000x600 with 2 Axes>"
      ]
     },
     "metadata": {},
     "output_type": "display_data"
    },
    {
     "data": {
      "image/png": "[encoded data removed]",
      "text/plain": [
       "<Figure size 1200x600 with 1 Axes>"
      ]
     },
     "metadata": {},
     "output_type": "display_data"
    },
    {
     "name": "stdout",
     "output_type": "stream",
     "text": [
      "No ADAS-related features found in the dataset.\n"
     ]
    }
   ],
   "source": [
    "import pandas as pd\n",
    "from sklearn.model_selection import train_test_split, GridSearchCV, StratifiedKFold, cross_val_score\n",
    "from sklearn.ensemble import RandomForestClassifier\n",
    "from sklearn.metrics import classification_report, confusion_matrix, accuracy_score, precision_score, recall_score, f1_score\n",
    "import seaborn as sns\n",
    "import matplotlib.pyplot as plt\n",
    "import statsmodels.api as sm\n",
    "\n",
    "# Load the data\n",
    "adas_file_path = 'C:/Users/Joseph Okpono/Desktop/Joseph and Stewart Technical paper on Data Analysis/SGO-2021-01_Incident_Reports_ADAS.csv'\n",
    "ads_file_path = 'C:/Users/Joseph Okpono/Desktop/Joseph and Stewart Technical paper on Data Analysis/SGO-2021-01_Incident_Reports_ADS.csv'\n",
    "other_file_path = 'C:/Users/Joseph Okpono/Desktop/Joseph and Stewart Technical paper on Data Analysis/SGO-2021-01_Incident_Reports_OTHER.csv'\n",
    "\n",
    "adas_data = pd.read_csv(adas_file_path, encoding='latin1')\n",
    "ads_data = pd.read_csv(ads_file_path, encoding='latin1')\n",
    "other_data = pd.read_csv(other_file_path, encoding='latin1')\n",
    "\n",
    "# Merge dataframes if necessary\n",
    "combined_data = pd.concat([adas_data, ads_data, other_data], ignore_index=True)\n",
    "\n",
    "# Identify and remove irrelevant columns\n",
    "irrelevant_columns = ['VIN', 'City', 'Latitude', 'Longitude', 'Investigating Officer Name',\n",
    "                      'Investigating Officer Phone', 'Investigating Officer Email', \n",
    "                      'ADAS (Advanced Driver Assistance Systems) Road Accident Data Insights: Uncovering Trends and Risk Factors A case study of the United States of America',\n",
    "                      'Narrative', 'Narrative - CBI?']\n",
    "\n",
    "columns_to_drop = [col for col in irrelevant_columns if col in combined_data.columns]\n",
    "combined_data.drop(columns=columns_to_drop, inplace=True)\n",
    "\n",
    "# Handle missing values\n",
    "numeric_columns = combined_data.select_dtypes(include=['number']).columns\n",
    "non_numeric_columns = combined_data.select_dtypes(exclude=['number']).columns\n",
    "\n",
    "# Fill missing values\n",
    "combined_data[numeric_columns] = combined_data[numeric_columns].fillna(combined_data[numeric_columns].median())\n",
    "combined_data[non_numeric_columns] = combined_data[non_numeric_columns].fillna(combined_data[non_numeric_columns].mode().iloc[0])\n",
    "combined_data[non_numeric_columns] = combined_data[non_numeric_columns].infer_objects(copy=False)\n",
    "\n",
    "# Function to parse dates with known formats first, then fall back to dateutil\n",
    "def parse_dates(df, date_column, date_formats):\n",
    "    # Try each date format\n",
    "    for fmt in date_formats:\n",
    "        try:\n",
    "            # Attempt to parse using the current format\n",
    "            df[date_column] = pd.to_datetime(df[date_column], format=fmt, errors='raise')\n",
    "            return df\n",
    "        except (ValueError, TypeError):\n",
    "            pass\n",
    "    # Fallback to individual parsing using dateutil if none of the formats worked\n",
    "    df[date_column] = pd.to_datetime(df[date_column], errors='coerce')\n",
    "    return df\n",
    "\n",
    "# Example usage of the parse_dates function\n",
    "date_formats = ['%Y-%m-%d', '%m/%d/%Y', '%d-%m-%Y', '%b %d, %Y']  # Add other common formats as needed\n",
    "combined_data = parse_dates(combined_data, 'Report Submission Date', date_formats)\n",
    "\n",
    "# Ensure all remaining columns are numeric\n",
    "print(combined_data.dtypes)\n",
    "\n",
    "# Define features and target variable\n",
    "features = combined_data.drop(columns=['Highest Injury Severity Alleged'])\n",
    "target = combined_data['Highest Injury Severity Alleged']\n",
    "\n",
    "# Check if there are any remaining non-numeric columns in features\n",
    "non_numeric_features = features.select_dtypes(exclude=['number']).columns\n",
    "if len(non_numeric_features) > 0:\n",
    "    print(f\"Non-numeric columns found: {non_numeric_features}\")\n",
    "    features = features.drop(columns=non_numeric_features)\n",
    "\n",
    "# Verify there are no non-numeric columns in features after dropping\n",
    "print(\"Non-numeric columns after dropping:\")\n",
    "print(features.select_dtypes(exclude=['number']).columns)\n",
    "\n",
    "# Split data into training and testing sets\n",
    "X_train, X_test, y_train, y_test = train_test_split(features, target, test_size=0.2, random_state=42)\n",
    "\n",
    "# Train a Random Forest Classifier with hyperparameter tuning\n",
    "param_grid = {\n",
    "    'n_estimators': [50, 100, 200],\n",
    "    'max_features': ['sqrt', 'log2'],\n",
    "    'max_depth': [None, 10, 20, 30],\n",
    "    'min_samples_split': [2, 5, 10],\n",
    "    'min_samples_leaf': [1, 2, 4]\n",
    "}\n",
    "\n",
    "rf_model = RandomForestClassifier(random_state=42)\n",
    "cv = StratifiedKFold(n_splits=4)  # Adjust number of splits to a value <= least populated class\n",
    "\n",
    "grid_search = GridSearchCV(estimator=rf_model, param_grid=param_grid, cv=cv, n_jobs=-1, verbose=2)\n",
    "grid_search.fit(X_train, y_train)\n",
    "\n",
    "best_rf_model = grid_search.best_estimator_\n",
    "\n",
    "# Make predictions\n",
    "y_pred = best_rf_model.predict(X_test)\n",
    "\n",
    "# Evaluate the model\n",
    "print(\"Confusion Matrix:\")\n",
    "print(confusion_matrix(y_test, y_pred))\n",
    "print(\"\\nClassification Report:\")\n",
    "print(classification_report(y_test, y_pred, zero_division=0))\n",
    "\n",
    "# Additional metrics with zero_division parameter\n",
    "accuracy = accuracy_score(y_test, y_pred)\n",
    "precision = precision_score(y_test, y_pred, average='weighted', zero_division=1)\n",
    "recall = recall_score(y_test, y_pred, average='weighted', zero_division=1)\n",
    "f1 = f1_score(y_test, y_pred, average='weighted', zero_division=1)\n",
    "\n",
    "print(f\"\\nAccuracy: {accuracy}\")\n",
    "print(f\"Precision: {precision}\")\n",
    "print(f\"Recall: {recall}\")\n",
    "print(f\"F1 Score: {f1}\")\n",
    "\n",
    "# Cross-validation scores\n",
    "cv_scores = cross_val_score(best_rf_model, features, target, cv=cv)\n",
    "print(f\"\\nCross-validation scores: {cv_scores}\")\n",
    "print(f\"Mean cross-validation score: {cv_scores.mean()}\")\n",
    "\n",
    "# Visualizations\n",
    "# Confusion matrix heatmap\n",
    "plt.figure(figsize=(10, 6))\n",
    "sns.heatmap(confusion_matrix(y_test, y_pred), annot=True, fmt='d', cmap='Blues')\n",
    "plt.title('Confusion Matrix Heatmap')\n",
    "plt.xlabel('Predicted')\n",
    "plt.ylabel('Actual')\n",
    "plt.show()\n",
    "\n",
    "# Feature importances\n",
    "importances = best_rf_model.feature_importances_\n",
    "feature_names = features.columns\n",
    "feature_importances = pd.DataFrame({'Feature': feature_names, 'Importance': importances})\n",
    "feature_importances = feature_importances.sort_values(by='Importance', ascending=False)\n",
    "\n",
    "plt.figure(figsize=(12, 6))\n",
    "sns.barplot(data=feature_importances.head(10), x='Importance', y='Feature')\n",
    "plt.title('Top 10 Feature Importances')\n",
    "plt.xlabel('Importance')\n",
    "plt.ylabel('Feature')\n",
    "plt.show()\n",
    "\n",
    "# Logistic regression for ADAS impact\n",
    "adas_features = [feature for feature in ['Feature1', 'Feature2', 'Feature3'] if feature in combined_data.columns]  # Replace with actual ADAS-related features from your dataset\n",
    "\n",
    "if adas_features:\n",
    "    X = combined_data[adas_features]\n",
    "    y = combined_data['Highest Injury Severity Alleged'].apply(lambda x: 1 if x in ['Serious', 'Fatality'] else 0)\n",
    "\n",
    "    logit_model = sm.Logit(y, sm.add_constant(X))\n",
    "    result = logit_model.fit()\n",
    "    print(result.summary())\n",
    "else:\n",
    "    print(\"No ADAS-related features found in the dataset.\")\n"
   ]
  },
  {
   "cell_type": "code",
   "execution_count": null,
   "id": "e61872df-f371-4fdf-a286-14f58a25ca03",
   "metadata": {},
   "outputs": [],
   "source": []
  }
 ],
 "metadata": {
  "kernelspec": {
   "display_name": "Python 3 (ipykernel)",
   "language": "python",
   "name": "python3"
  },
  "language_info": {
   "codemirror_mode": {
    "name": "ipython",
    "version": 3
   },
   "file_extension": ".py",
   "mimetype": "text/x-python",
   "name": "python",
   "nbconvert_exporter": "python",
   "pygments_lexer": "ipython3",
   "version": "3.12.4"
  }
 },
 "nbformat": 4,
 "nbformat_minor": 5
}
